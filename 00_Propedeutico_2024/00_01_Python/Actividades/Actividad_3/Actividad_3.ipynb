{
 "cells": [
  {
   "cell_type": "markdown",
   "metadata": {},
   "source": [
    "En la siguiente celda, completa los siguientes ejercicios:\n",
    "\n",
    "## Ejercicio 1\n",
    "\n",
    "Escribe una clase llamada Numero. Esta clase debe tener una constructora que reciba un número y almacene ese número en 2 atributos: romano que almacenará el número en el formato de número romanos como una cadena de caracteres y normal que guardará el número que nos han dado en la constructora.\n",
    "\n",
    "## Ejercicio 2\n",
    "Crea dos nuevos métodos en la clase Numero. El primer método, llamado imprime() imprime un mensaje mostrando el valor de ambos atributos; el segundo atributo, suma_romano() tendrá como parámetros una cadena de caracteres que representará otro número romano y que sumaremos a los atributos que ya teníamos.\n",
    "\n",
    "## Ejercicio 3\n",
    "\n",
    "Define una función dentro de la clase Numero que a partir de una cadena de caracteres, devuelve True si esa cadena de caracteres corresponde con un número romano y falso en caso contrario. Después, modifica el método para que lance un error en el caso de que el valor que nos pasan por parámetro no se corresponde con el patrón de un número romano"
   ]
  },
  {
   "cell_type": "code",
   "execution_count": 36,
   "metadata": {},
   "outputs": [
    {
     "name": "stdout",
     "output_type": "stream",
     "text": [
      "Número: 1672\n",
      "Número romano: MDCLXXII\n",
      "Número: 1674\n",
      "Número romano: MDCLXXIV\n"
     ]
    },
    {
     "data": {
      "text/plain": [
       "False"
      ]
     },
     "execution_count": 36,
     "metadata": {},
     "output_type": "execute_result"
    }
   ],
   "source": [
    "class Numero:\n",
    "\n",
    "    def __init__(self, numero):\n",
    "        self.romano = self.convertir_romano(numero)\n",
    "        self.normal = numero\n",
    "\n",
    "    def convertir_romano(self, numero):\n",
    "        valores = [1000, 900, 500, 400, 100, 90, 50, 40, 10, 9, 5, 4, 1]\n",
    "        romanos = ['M', 'CM', 'D', 'CD', 'C', 'XC', 'L', 'XL', 'X', 'IX', 'V', 'IV', 'I']\n",
    "        resultado = ''\n",
    "        i = 0\n",
    "        while numero > 0:\n",
    "            for _ in range(numero // valores[i]):\n",
    "                resultado += romanos[i]\n",
    "                numero -= valores[i]\n",
    "            i += 1\n",
    "        return resultado\n",
    "\n",
    "    def imprime(self):\n",
    "        print(f\"Número: {self.normal}\")\n",
    "        print(f\"Número romano: {self.romano}\")\n",
    "\n",
    "    def suma_romano(self, otro_valor):\n",
    "        # valido usando el metodo es romano \n",
    "        if not self.is_romano(otro_valor):\n",
    "            raise ValueError(\"El número romano ingresado no es válido\")\n",
    "                \n",
    "        otro_numero = self.convertir_a_arabigo(otro_valor)\n",
    "        suma = self.normal + otro_numero\n",
    "        \n",
    "        #Actualizo los valores \n",
    "        self.romano = self.convertir_romano(suma)\n",
    "        self.normal = suma \n",
    "\n",
    "    def convertir_a_arabigo(self, romano):\n",
    "        valores = {'I': 1, 'V': 5, 'X': 10, 'L': 50, 'C': 100, 'D': 500, 'M': 1000}\n",
    "        total = 0\n",
    "        prev = 0\n",
    "        for i in range(len(romano) - 1, -1, -1):\n",
    "            num = valores[romano[i]]\n",
    "            if num < prev:\n",
    "                total -= num\n",
    "            else:\n",
    "                total += num\n",
    "            prev = num\n",
    "        return total\n",
    "\n",
    "    def is_romano(self, romano):\n",
    "        valores = {'I': 1, 'V': 5, 'X': 10, 'L': 50, 'C': 100, 'D': 500, 'M': 1000}\n",
    "        prev = 0\n",
    "        for i in range(len(romano)):\n",
    "            num = valores.get(romano[i], -1)\n",
    "            if num == -1:\n",
    "                return False  # Caracter inválido\n",
    "            if i > 0 and num > prev:\n",
    "                if prev in [1, 10, 100]:\n",
    "                    if num > prev * 5:\n",
    "                        return False  # Resta inválida\n",
    "                else:\n",
    "                    return False  # Resta inválida\n",
    "            prev = num\n",
    "        return True\n",
    "\n",
    "numero1 = Numero(1672)\n",
    "numero1.imprime()  \n",
    "\n",
    "numero1.suma_romano(\"II\")\n",
    "numero1.imprime()  \n",
    "\n",
    "numero1.is_romano(\"hola\")"
   ]
  },
  {
   "cell_type": "markdown",
   "metadata": {},
   "source": [
    "En la siguiente celda, completa los siguientes ejercicios:\n",
    "\n",
    "## Ejercicio 4\n",
    "\n",
    "Implementa una clase MejorNumero. Esta clase heredará las propiedades de Numero e incluirá dos métodos nuevos para restar y multiplicar los atributos recibiendo por parámetro otro número romano.\n",
    "\n",
    "## Ejercicio 5\n",
    "\n",
    "En la clase MejorNumero, crea un nuevo método que reciba una lista con 3 números romanos. A continuación, iterando sobre los elementos de la lista llamará a la función suma_romano(). Los posibles errores se tendrán que gestionar con excepciones para mostrar un mensaje y seguir ejecutando el siguiente número."
   ]
  },
  {
   "cell_type": "code",
   "execution_count": 39,
   "metadata": {},
   "outputs": [
    {
     "name": "stdout",
     "output_type": "stream",
     "text": [
      "Resultado de la resta en entero es: 9, en romano es IX\n",
      "Resultado del producto en entero es: 18 en romano es XVIII  \n",
      "Resultado Multiple en entero es 40\n",
      "Resultado Multiple en romano es XL\n"
     ]
    }
   ],
   "source": [
    "class MejorNumero(Numero):\n",
    "    resta = 0\n",
    "    producto = 0\n",
    "\n",
    "    def resta_romano(self, otro_romano):\n",
    "        otro_numero = self.convertir_a_arabigo(otro_romano)\n",
    "        self.resta = self.normal - otro_numero\n",
    "\n",
    "        if self.resta < 0:\n",
    "            raise ValueError(\"La resta resultaría en un número negativo.\")\n",
    "\n",
    "        self.romano = self.convertir_romano(self.resta)\n",
    "        self.normal = self.resta\n",
    "        print(f\"Resultado de la resta en entero es: {self.resta}, en romano es {self.romano}\")    \n",
    "\n",
    "    def producto_romano(self, otro_romano):\n",
    "        otro_numero = self.convertir_a_arabigo(otro_romano)\n",
    "        self.producto = self.normal * otro_numero\n",
    "\n",
    "        self.romano = self.convertir_romano(self.producto)\n",
    "        self.normal = self.producto\n",
    "        print(f\"Resultado del producto en entero es: {self.producto} en romano es {self.romano}  \")\n",
    "\n",
    "    def suma_varios_num_romanos(self, lista_romanos):\n",
    "        suma = self.normal\n",
    "        for romano in lista_romanos:\n",
    "            try:\n",
    "                suma += self.convertir_a_arabigo(romano)\n",
    "            except ValueError:\n",
    "                print(f\"El número romano ingresado en la lista = '{romano}', no es válido.\")\n",
    "        self.romano = self.convertir_romano(suma)\n",
    "        self.normal = suma    \n",
    "\n",
    "\n",
    "numero = MejorNumero(10)\n",
    "numero.resta_romano(\"I\")\n",
    "numero.producto_romano(\"II\")\n",
    "numero.suma_varios_num_romanos([\"V\", \"X\", \"III\", \"IV\"])\n",
    "print(f\"Resultado Multiple en entero es {numero.normal}\") \n",
    "print(f\"Resultado Multiple en romano es {numero.romano}\") \n"
   ]
  }
 ],
 "metadata": {
  "kernelspec": {
   "display_name": "Python 3",
   "language": "python",
   "name": "python3"
  },
  "language_info": {
   "codemirror_mode": {
    "name": "ipython",
    "version": 3
   },
   "file_extension": ".py",
   "mimetype": "text/x-python",
   "name": "python",
   "nbconvert_exporter": "python",
   "pygments_lexer": "ipython3",
   "version": "3.9.6"
  }
 },
 "nbformat": 4,
 "nbformat_minor": 2
}
