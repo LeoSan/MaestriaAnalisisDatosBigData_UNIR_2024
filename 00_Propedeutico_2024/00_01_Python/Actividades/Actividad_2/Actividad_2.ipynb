{
 "cells": [
  {
   "cell_type": "markdown",
   "metadata": {},
   "source": [
    "## Ejercicio 1\n",
    "\n",
    "Escribe una función llamada ejercicio1 que genere una lista con 15 valores enteros aleatorios que vayan de 1 a 100. La función debe devolver la lista con todos los valores.\n"
   ]
  },
  {
   "cell_type": "code",
   "execution_count": 3,
   "metadata": {},
   "outputs": [
    {
     "name": "stdout",
     "output_type": "stream",
     "text": [
      "[68, 38, 13, 58, 69, 57, 95, 81, 99, 9, 32, 51, 72, 94, 49]\n"
     ]
    }
   ],
   "source": [
    "import random\n",
    "\n",
    "def ejercicio1():\n",
    "  \"\"\"Genera una lista de 15 números enteros aleatorios entre 1 y 100.\n",
    "\n",
    "  Returns:\n",
    "    Una lista con los 15 números aleatorios generados.\n",
    "  \"\"\"\n",
    "\n",
    "  lista_aleatoria = []\n",
    "  for _ in range(15):\n",
    "    numero_aleatorio = random.randint(1, 100)\n",
    "    lista_aleatoria.append(numero_aleatorio)\n",
    "  return lista_aleatoria\n",
    "\n",
    "# Ejemplo de uso:\n",
    "resultado = ejercicio1()\n",
    "print(resultado)"
   ]
  },
  {
   "cell_type": "markdown",
   "metadata": {},
   "source": [
    "## Ejercicio 2\n",
    "\n",
    "Escribe una función llamada ejercicio2 que recibe 2 argumentos: el primero será la lista que hemos implementado en el Ejercicio 1 y el segundo un número por el que se dividirá cada uno de los elementos de la lista. El resultado será una nueva lista."
   ]
  },
  {
   "cell_type": "raw",
   "metadata": {},
   "source": [
    "import random\n",
    "\n",
    "def ejercicio1():\n",
    "  \"\"\"Genera una lista de 15 números enteros aleatorios entre 1 y 100.\n",
    "\n",
    "  Returns:\n",
    "    Una lista con los 15 números aleatorios generados.\n",
    "  \"\"\"\n",
    "\n",
    "  lista_aleatoria = []\n",
    "  for _ in range(15):\n",
    "    numero_aleatorio = random.randint(1, 100)\n",
    "    lista_aleatoria.append(numero_aleatorio)\n",
    "  return lista_aleatoria\n",
    "  \n",
    "\n",
    "def ejercicio2(lista, divisor):\n",
    "  \"\"\"Divide cada elemento de una lista por un divisor dado.\n",
    "\n",
    "  Args:\n",
    "    lista: La lista de números a dividir.\n",
    "    divisor: El número por el cual se dividirá cada elemento.\n",
    "\n",
    "  Returns:\n",
    "    Una nueva lista con los resultados de las divisiones.\n",
    "  \"\"\"\n",
    "\n",
    "  nueva_lista = []\n",
    "  for numero in lista:\n",
    "    resultado_division = numero / divisor\n",
    "    nueva_lista.append(resultado_division)\n",
    "  return nueva_lista\n",
    "\n",
    "# Ejemplo de uso:\n",
    "lista_original = ejercicio1()  # Llamamos a la función del ejercicio 1 para obtener una lista\n",
    "divisor = 2\n",
    "resultado = ejercicio2(lista_original, divisor)\n",
    "print(resultado)"
   ]
  },
  {
   "cell_type": "markdown",
   "metadata": {},
   "source": [
    "## Ejercicio 3\n",
    "\n",
    "Usando funciones anónimas, crea una nueva lista que contenga los valores enteros de cada uno de los elementos de la lista que devuelve la función implementada en el Ejercicio 2."
   ]
  },
  {
   "cell_type": "code",
   "execution_count": 9,
   "metadata": {},
   "outputs": [
    {
     "name": "stdout",
     "output_type": "stream",
     "text": [
      "[45, 22, 31, 3, 46, 3, 14, 38, 41, 16, 15, 7, 48, 47, 23]\n"
     ]
    }
   ],
   "source": [
    "def ejercicio1():\n",
    "  \"\"\"Genera una lista de 15 números enteros aleatorios entre 1 y 100.\n",
    "\n",
    "  Returns:\n",
    "    Una lista con los 15 números aleatorios generados.\n",
    "  \"\"\"\n",
    "\n",
    "  lista_aleatoria = []\n",
    "  for _ in range(15):\n",
    "    numero_aleatorio = random.randint(1, 100)\n",
    "    lista_aleatoria.append(numero_aleatorio)\n",
    "  return lista_aleatoria\n",
    "\n",
    "\n",
    "def ejercicio3(lista, divisor):\n",
    "  \"\"\"Divide cada elemento de una lista por un divisor dado.\n",
    "\n",
    "  Args:\n",
    "    lista: La lista de números a dividir.\n",
    "    divisor: El número por el cual se dividirá cada elemento.\n",
    "\n",
    "  Returns:\n",
    "    Una nueva lista con los resultados de las divisiones.\n",
    "  \"\"\"\n",
    "\n",
    "  nueva_lista = [numero / divisor for numero in lista]\n",
    "  return nueva_lista\n",
    "\n",
    "# Ejemplo de uso:\n",
    "lista_original = ejercicio1()  # Llamamos a la función del ejercicio 1 para obtener una lista\n",
    "divisor = 2\n",
    "\n",
    "# Usando una función anónima para obtener la parte entera de cada elemento\n",
    "lista_con_enteros = list(map(lambda x: int(x), ejercicio3(lista_original, divisor)))\n",
    "\n",
    "print(lista_con_enteros)"
   ]
  },
  {
   "cell_type": "markdown",
   "metadata": {},
   "source": [
    "## Ejercicio 4\n",
    "\n",
    "Implementa una función, llamada ejercicio4, que reciba como argumentos dos números enteros y devuelva en una tupla los siguientes valores: el factorial del primer argumento y el máximo común divisor de ambos argumentos."
   ]
  },
  {
   "cell_type": "code",
   "execution_count": 7,
   "metadata": {},
   "outputs": [
    {
     "name": "stdout",
     "output_type": "stream",
     "text": [
      "(120, 5)\n"
     ]
    }
   ],
   "source": [
    "def factorial(n):\n",
    "    \"\"\"Calcula el factorial de un número.\"\"\"\n",
    "    if n == 0:\n",
    "        return 1\n",
    "    else:\n",
    "        return n * factorial(n - 1)\n",
    "\n",
    "def mcd(a, b):\n",
    "    \"\"\"Calcula el máximo común divisor de dos números.\"\"\"\n",
    "    while b != 0:\n",
    "        a, b = b, a % b\n",
    "    return a\n",
    "\n",
    "def ejercicio4(num1, num2):\n",
    "    \"\"\"Calcula el factorial del primer número y el MCD de ambos.\n",
    "\n",
    "    Args:\n",
    "        num1: El primer número entero.\n",
    "        num2: El segundo número entero.\n",
    "\n",
    "    Returns:\n",
    "        Una tupla con el factorial de num1 y el MCD de num1 y num2.\n",
    "    \"\"\"\n",
    "\n",
    "    fact = factorial(num1)\n",
    "    mcd_result = mcd(num1, num2)\n",
    "    return fact, mcd_result\n",
    "\n",
    "# Ejemplo de uso:\n",
    "resultado = ejercicio4(5, 10)\n",
    "print(resultado)  # Imprimirá: (120, 5)\n"
   ]
  },
  {
   "cell_type": "markdown",
   "metadata": {},
   "source": [
    "## Ejercicio 5\n",
    "\n",
    "Crea una función ejercicio5 que devuelva una lista con todos los valores contenidos en una lista que se pasa por argumento pero eliminando los valores repetidos. Prueba el funcionamiento de esta función con la lista obtenida en el Ejercicio 1."
   ]
  },
  {
   "cell_type": "code",
   "execution_count": 8,
   "metadata": {},
   "outputs": [
    {
     "name": "stdout",
     "output_type": "stream",
     "text": [
      "[64, 33, 66, 1, 43, 46, 16, 19, 23, 21, 87, 25, 26, 94]\n"
     ]
    }
   ],
   "source": [
    "def ejercicio5(lista):\n",
    "  \"\"\"Elimina los valores repetidos de una lista.\n",
    "\n",
    "  Args:\n",
    "    lista: La lista de entrada.\n",
    "\n",
    "  Returns:\n",
    "    Una nueva lista sin elementos repetidos.\n",
    "  \"\"\"\n",
    "\n",
    "  # Utilizamos un conjunto para eliminar duplicados y luego convertimos nuevamente a lista\n",
    "  return list(set(lista))\n",
    "\n",
    "# Ejemplo de uso:\n",
    "lista_original = ejercicio1()  # Suponiendo que ejercicio1() ya está definida\n",
    "lista_sin_repetidos = ejercicio5(lista_original)\n",
    "print(lista_sin_repetidos)"
   ]
  }
 ],
 "metadata": {
  "kernelspec": {
   "display_name": "Python 3",
   "language": "python",
   "name": "python3"
  },
  "language_info": {
   "codemirror_mode": {
    "name": "ipython",
    "version": 3
   },
   "file_extension": ".py",
   "mimetype": "text/x-python",
   "name": "python",
   "nbconvert_exporter": "python",
   "pygments_lexer": "ipython3",
   "version": "3.9.6"
  }
 },
 "nbformat": 4,
 "nbformat_minor": 2
}
