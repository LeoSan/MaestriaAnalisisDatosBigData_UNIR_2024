{
 "cells": [
  {
   "cell_type": "markdown",
   "metadata": {},
   "source": [
    "## Ejercicio 1\n",
    "\n",
    "Crea una función llamada ejercicio1, que recibe la ruta donde se encuentra un dataset y devuelve una DataFrame con los datos que hay en el dataset. Para comprobar esta función utiliza el dataset `titanic.csv` que se incluye en esta actividad."
   ]
  },
  {
   "cell_type": "code",
   "execution_count": 11,
   "metadata": {},
   "outputs": [
    {
     "ename": "ModuleNotFoundError",
     "evalue": "No module named 'pandas'",
     "output_type": "error",
     "traceback": [
      "\u001b[0;31m---------------------------------------------------------------------------\u001b[0m",
      "\u001b[0;31mModuleNotFoundError\u001b[0m                       Traceback (most recent call last)",
      "Cell \u001b[0;32mIn[11], line 1\u001b[0m\n\u001b[0;32m----> 1\u001b[0m \u001b[38;5;28;01mimport\u001b[39;00m \u001b[38;5;21;01mpandas\u001b[39;00m \u001b[38;5;28;01mas\u001b[39;00m \u001b[38;5;21;01mpd\u001b[39;00m\n\u001b[1;32m      3\u001b[0m \u001b[38;5;28;01mdef\u001b[39;00m \u001b[38;5;21mejercicio1\u001b[39m(ruta_dataset):\n\u001b[1;32m      5\u001b[0m   \u001b[38;5;28;01mtry\u001b[39;00m:\n",
      "\u001b[0;31mModuleNotFoundError\u001b[0m: No module named 'pandas'"
     ]
    }
   ],
   "source": [
    "import pandas as pd\n",
    "\n",
    "def ejercicio1(ruta_dataset):\n",
    "\n",
    "  try:\n",
    "    df = pd.read_csv(ruta_dataset)\n",
    "    return df\n",
    "  except FileNotFoundError:\n",
    "    print(\"El archivo no se encontró. Verifica la ruta.\")\n",
    "  except pd.errors.ParserError:\n",
    "    print(\"Error al parsear el archivo. Asegúrate de que el formato sea correcto.\")\n",
    "  except Exception as e:\n",
    "    print(\"Ocurrió un error inesperado:\", e)\n",
    "\n",
    "# Ejemplo de uso con el dataset titanic.csv\n",
    "ruta = \"titanic.csv\"  # Ajusta la ruta si el archivo está en otra ubicación\n",
    "df_titanic = ejercicio1(ruta)\n",
    "\n",
    "if df_titanic is not None:\n",
    "  print(df_titanic.head())"
   ]
  },
  {
   "cell_type": "markdown",
   "metadata": {},
   "source": [
    "## Ejercicio 2\n",
    "\n",
    "Crea otra función llamada ejercicio2. Esta función recibe un único argumento que es un dataframe. En concreto debe recibir el dataframe que se ha obtenido de leer el dataset `titanic.csv`. Esta función devolverá otro dataset que incluya únicamente a los pasajeros menores de 35 años y que viajaban en 3ª clase."
   ]
  },
  {
   "cell_type": "code",
   "execution_count": 5,
   "metadata": {},
   "outputs": [
    {
     "ename": "ModuleNotFoundError",
     "evalue": "No module named 'pandas'",
     "output_type": "error",
     "traceback": [
      "\u001b[0;31m---------------------------------------------------------------------------\u001b[0m",
      "\u001b[0;31mModuleNotFoundError\u001b[0m                       Traceback (most recent call last)",
      "Cell \u001b[0;32mIn[5], line 1\u001b[0m\n\u001b[0;32m----> 1\u001b[0m \u001b[38;5;28;01mimport\u001b[39;00m \u001b[38;5;21;01mpandas\u001b[39;00m \u001b[38;5;28;01mas\u001b[39;00m \u001b[38;5;21;01mpd\u001b[39;00m\n\u001b[1;32m      3\u001b[0m \u001b[38;5;28;01mdef\u001b[39;00m \u001b[38;5;21mejercicio2\u001b[39m(df):\n\u001b[1;32m      4\u001b[0m \n\u001b[1;32m      5\u001b[0m \n\u001b[1;32m      6\u001b[0m   \u001b[38;5;66;03m# Filtramos el DataFrame por edad y clase\u001b[39;00m\n\u001b[1;32m      7\u001b[0m   df_filtrado \u001b[38;5;241m=\u001b[39m df[(df[\u001b[38;5;124m'\u001b[39m\u001b[38;5;124mAge\u001b[39m\u001b[38;5;124m'\u001b[39m] \u001b[38;5;241m<\u001b[39m \u001b[38;5;241m35\u001b[39m) \u001b[38;5;241m&\u001b[39m (df[\u001b[38;5;124m'\u001b[39m\u001b[38;5;124mPclass\u001b[39m\u001b[38;5;124m'\u001b[39m] \u001b[38;5;241m==\u001b[39m \u001b[38;5;241m3\u001b[39m)]\n",
      "\u001b[0;31mModuleNotFoundError\u001b[0m: No module named 'pandas'"
     ]
    }
   ],
   "source": [
    "import pandas as pd\n",
    "\n",
    "def ejercicio2(df):\n",
    "\n",
    "\n",
    "  # Filtramos el DataFrame por edad y clase\n",
    "  df_filtrado = df[(df['Age'] < 35) & (df['Pclass'] == 3)]\n",
    "\n",
    "  return df_filtrado\n",
    "\n",
    "# Ejemplo de uso:\n",
    "df_titanic = ejercicio1(\"titanic.csv\")  # Suponiendo que ya tienes el DataFrame\n",
    "df_jovenes_3ra = ejercicio2(df_titanic)\n",
    "\n",
    "print(df_jovenes_3ra.head())"
   ]
  },
  {
   "cell_type": "markdown",
   "metadata": {},
   "source": [
    "## Ejercicio 3\n",
    "\n",
    "Crea una función llamada ejercicio3, que recibiendo como argumento el dataframe del dataset `titanic.csv`, calcule el porcentaje de persona que sobrevieron. Redondee el resultado al segundo decimal."
   ]
  },
  {
   "cell_type": "code",
   "execution_count": 6,
   "metadata": {},
   "outputs": [
    {
     "ename": "ModuleNotFoundError",
     "evalue": "No module named 'pandas'",
     "output_type": "error",
     "traceback": [
      "\u001b[0;31m---------------------------------------------------------------------------\u001b[0m",
      "\u001b[0;31mModuleNotFoundError\u001b[0m                       Traceback (most recent call last)",
      "Cell \u001b[0;32mIn[6], line 1\u001b[0m\n\u001b[0;32m----> 1\u001b[0m \u001b[38;5;28;01mimport\u001b[39;00m \u001b[38;5;21;01mpandas\u001b[39;00m \u001b[38;5;28;01mas\u001b[39;00m \u001b[38;5;21;01mpd\u001b[39;00m\n\u001b[1;32m      3\u001b[0m \u001b[38;5;28;01mdef\u001b[39;00m \u001b[38;5;21mejercicio3\u001b[39m(df):\n\u001b[1;32m      4\u001b[0m \n\u001b[1;32m      5\u001b[0m   \u001b[38;5;66;03m# Calculamos el número total de pasajeros\u001b[39;00m\n\u001b[1;32m      6\u001b[0m   total_pasajeros \u001b[38;5;241m=\u001b[39m \u001b[38;5;28mlen\u001b[39m(df)\n",
      "\u001b[0;31mModuleNotFoundError\u001b[0m: No module named 'pandas'"
     ]
    }
   ],
   "source": [
    "import pandas as pd\n",
    "\n",
    "def ejercicio3(df):\n",
    "\n",
    "  # Calculamos el número total de pasajeros\n",
    "  total_pasajeros = len(df)\n",
    "\n",
    "  # Calculamos el número de sobrevivientes\n",
    "  sobrevivientes = len(df[df['Survived'] == 1])\n",
    "\n",
    "  # Calculamos el porcentaje de sobrevivientes y lo redondeamos\n",
    "  porcentaje_sobrevivientes = round((sobrevivientes / total_pasajeros) * 100, 2)\n",
    "\n",
    "  return porcentaje_sobrevivientes\n",
    "\n",
    "# Ejemplo de uso:\n",
    "df_titanic = ejercicio1(\"titanic.csv\")  # Suponiendo que ya tienes el DataFrame\n",
    "porcentaje = ejercicio3(df_titanic)\n",
    "print(f\"El porcentaje de sobrevivientes en el Titanic es: {porcentaje}%\")\n"
   ]
  },
  {
   "cell_type": "markdown",
   "metadata": {},
   "source": [
    "## Ejercicio 4\n",
    "\n",
    "Implementa una función llamada ejercicio4 que recibiendo el dataframe con los datos del Titanic, devuelva en una tupla el porcentaje de hombres y mujeres que viajaban en el Titanic, redondeados al segundo decimal."
   ]
  },
  {
   "cell_type": "code",
   "execution_count": 10,
   "metadata": {},
   "outputs": [
    {
     "ename": "ModuleNotFoundError",
     "evalue": "No module named 'pandas'",
     "output_type": "error",
     "traceback": [
      "\u001b[0;31m---------------------------------------------------------------------------\u001b[0m",
      "\u001b[0;31mModuleNotFoundError\u001b[0m                       Traceback (most recent call last)",
      "Cell \u001b[0;32mIn[10], line 1\u001b[0m\n\u001b[0;32m----> 1\u001b[0m \u001b[38;5;28;01mimport\u001b[39;00m \u001b[38;5;21;01mpandas\u001b[39;00m \u001b[38;5;28;01mas\u001b[39;00m \u001b[38;5;21;01mpd\u001b[39;00m\n\u001b[1;32m      3\u001b[0m \u001b[38;5;28;01mdef\u001b[39;00m \u001b[38;5;21mejercicio4\u001b[39m(df):\n\u001b[1;32m      4\u001b[0m \n\u001b[1;32m      5\u001b[0m   \u001b[38;5;66;03m# Calculamos el número total de pasajeros\u001b[39;00m\n\u001b[1;32m      6\u001b[0m   total_pasajeros \u001b[38;5;241m=\u001b[39m \u001b[38;5;28mlen\u001b[39m(df)\n",
      "\u001b[0;31mModuleNotFoundError\u001b[0m: No module named 'pandas'"
     ]
    }
   ],
   "source": [
    "import pandas as pd\n",
    "\n",
    "def ejercicio4(df):\n",
    "  # Calculamos el número total de pasajeros\n",
    "  total_pasajeros = len(df)\n",
    "  # Contar el número de hombres y mujeres\n",
    "  total_hombres = len(df[df['Sex'] == 'male'])\n",
    "  total_mujeres = len(df[df['Sex'] == 'female'])\n",
    "  #calculos %\n",
    "  porcentaje_hombre = round((total_hombres / total_pasajeros) * 100, 2)\n",
    "  porcentaje_mujeres = round((total_mujeres / total_pasajeros) * 100, 2)\n",
    "  tupla = porcentaje_hombre, porcentaje_mujeres\n",
    "  \n",
    "  return tupla  \n",
    "\n",
    "df_titanic = ejercicio1(\"titanic.csv\")  # Suponiendo que ya tienes el DataFrame\n",
    "porcentaje = ejercicio4(df_titanic)\n",
    "print(f\"El porcentaje de mujeres  en el Titanic es: {porcentaje[0]}%\")\n",
    "print(f\"El porcentaje de hombres  en el Titanic es: {porcentaje[1]}%\")"
   ]
  },
  {
   "cell_type": "markdown",
   "metadata": {},
   "source": [
    "## Ejercicio 5\n",
    "\n",
    "\n",
    "Implementa una función llamada ejercicio5 que recibiendo el dataframe con los datos del Titanic, devuelva en una lista el número de pasajeros que viajaban en 1ª, 2ª y 3ª clase."
   ]
  },
  {
   "cell_type": "code",
   "execution_count": 7,
   "metadata": {},
   "outputs": [
    {
     "ename": "ModuleNotFoundError",
     "evalue": "No module named 'pandas'",
     "output_type": "error",
     "traceback": [
      "\u001b[0;31m---------------------------------------------------------------------------\u001b[0m",
      "\u001b[0;31mModuleNotFoundError\u001b[0m                       Traceback (most recent call last)",
      "Cell \u001b[0;32mIn[7], line 1\u001b[0m\n\u001b[0;32m----> 1\u001b[0m \u001b[38;5;28;01mimport\u001b[39;00m \u001b[38;5;21;01mpandas\u001b[39;00m \u001b[38;5;28;01mas\u001b[39;00m \u001b[38;5;21;01mpd\u001b[39;00m\n\u001b[1;32m      3\u001b[0m \u001b[38;5;28;01mdef\u001b[39;00m \u001b[38;5;21mejercicio5\u001b[39m(df):\n\u001b[1;32m      4\u001b[0m   \u001b[38;5;66;03m# Agrupar por clase y contar pasajeros\u001b[39;00m\n\u001b[1;32m      5\u001b[0m   conteo_por_clase \u001b[38;5;241m=\u001b[39m df[\u001b[38;5;124m'\u001b[39m\u001b[38;5;124mPclass\u001b[39m\u001b[38;5;124m'\u001b[39m]\u001b[38;5;241m.\u001b[39mvalue_counts()\u001b[38;5;241m.\u001b[39msort_index()\n",
      "\u001b[0;31mModuleNotFoundError\u001b[0m: No module named 'pandas'"
     ]
    }
   ],
   "source": [
    "import pandas as pd\n",
    "\n",
    "def ejercicio5(df):\n",
    "  # Agrupar por clase y contar pasajeros\n",
    "  conteo_por_clase = df['Pclass'].value_counts().sort_index()\n",
    "\n",
    "  # Convertir la serie a una lista\n",
    "  lista_pasajeros_por_clase = conteo_por_clase.tolist()\n",
    "\n",
    "  return lista_pasajeros_por_clase\n",
    "\n",
    "# Ejemplo de uso:\n",
    "df_titanic = ejercicio1(\"titanic.csv\")  # Suponiendo que ya tienes el DataFrame\n",
    "pasajeros_por_clase = ejercicio5(df_titanic)\n",
    "\n",
    "print(\"Número de pasajeros por clase:\")\n",
    "print(f\"1a clase: {pasajeros_por_clase[0]}\")\n",
    "print(f\"2a clase: {pasajeros_por_clase[1]}\")\n",
    "print(f\"3a clase: {pasajeros_por_clase[2]}\")"
   ]
  }
 ],
 "metadata": {
  "kernelspec": {
   "display_name": "Python 3",
   "language": "python",
   "name": "python3"
  },
  "language_info": {
   "codemirror_mode": {
    "name": "ipython",
    "version": 3
   },
   "file_extension": ".py",
   "mimetype": "text/x-python",
   "name": "python",
   "nbconvert_exporter": "python",
   "pygments_lexer": "ipython3",
   "version": "3.9.6"
  }
 },
 "nbformat": 4,
 "nbformat_minor": 2
}
