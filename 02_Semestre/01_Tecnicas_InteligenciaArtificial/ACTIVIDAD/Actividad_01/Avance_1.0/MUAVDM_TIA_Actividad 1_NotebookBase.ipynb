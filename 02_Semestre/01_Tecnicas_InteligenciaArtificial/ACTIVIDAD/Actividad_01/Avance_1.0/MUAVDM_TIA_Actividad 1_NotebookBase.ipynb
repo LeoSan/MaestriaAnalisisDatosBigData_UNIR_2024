{
 "cells": [
  {
   "cell_type": "markdown",
   "id": "de1406ba",
   "metadata": {},
   "source": [
    "<img src=\"https://www.unir.net/wp-content/uploads/2019/11/Unir_2021_logo.svg\" width=\"240\" height=\"240\" align=\"right\"/>"
   ]
  },
  {
   "cell_type": "markdown",
   "id": "8b6f603c",
   "metadata": {},
   "source": [
    "<center><h1>Técnicas de Inteligencia Artificial</header1></center>\n",
    "<left><h1>Actividad 1. Laboratorio: Árboles de decisión, reglas y ensemble learning</header1></left>"
   ]
  },
  {
   "cell_type": "markdown",
   "id": "3eb1aaac",
   "metadata": {},
   "source": [
    "Presentado por: Leonard Jose Cuenca Roa  <br>\n",
    "Fecha: 11/06/2023"
   ]
  },
  {
   "cell_type": "markdown",
   "id": "1dec299b",
   "metadata": {
    "ExecuteTime": {
     "end_time": "2022-03-14T15:14:04.930713Z",
     "start_time": "2022-03-14T15:14:04.921682Z"
    }
   },
   "source": [
    "## Importación de librerias necesarias"
   ]
  },
  {
   "cell_type": "code",
   "execution_count": null,
   "id": "6d1abf7a",
   "metadata": {
    "ExecuteTime": {
     "end_time": "2022-03-14T15:14:46.228059Z",
     "start_time": "2022-03-14T15:14:46.223108Z"
    }
   },
   "outputs": [],
   "source": [
    "import pandas as pd\n",
    "import numpy as np\n",
    "import matplotlib.pyplot as plt\n",
    "import seaborn as sns\n",
    "from sklearn.preprocessing import LabelEncoder\n",
    "from sklearn.model_selection import train_test_split\n",
    "from sklearn.tree import DecisionTreeClassifier\n",
    "from sklearn.ensemble import RandomForestClassifier\n",
    "from sklearn.metrics import (accuracy_score, confusion_matrix, classification_report, \n",
    "                           ConfusionMatrixDisplay, precision_recall_fscore_support)\n",
    "import warnings\n",
    "warnings.filterwarnings('ignore')\n",
    "\n",
    "# Configuración de estilo para gráficos\n",
    "plt.style.use('default')\n",
    "sns.set_palette(\"husl\")\n"
   ]
  },
  {
   "cell_type": "markdown",
   "id": "6a44b924",
   "metadata": {},
   "source": [
    "## Cargar el Dataset\n",
    "\n",
    "**Se establece la descripción del dataset:**\n",
    "\n",
    "**🎯Descripción:** Este conjunto de datos tiene la evaluacion de automóviles validando los siguientes cirterios: \n",
    "- 💰 buying: Precio de compra del vehículo, clasificado en categorías como vhigh (muy alto), high (alto), med (medio) y low (bajo).\n",
    "- 🧑🏻‍🔧 maintenance: Costo de mantenimiento del vehículo, con la misma categorización que buying.\n",
    "- 🚪doors: Número de puertas del automóvil, expresado en valores numéricos como \"2\", \"3\", \"4\", o \"5more\" (5 o más).\n",
    "- 👪 person: Capacidad de ocupantes del automóvil, con valores como \"2\", \"4\" y \"more\" (más de 4).\n",
    "- 🎒lug_boot: Tamaño del maletero, categorizado como small (pequeño), med (medio) o big (grande).\n",
    "- 🦺 safety: Nivel de seguridad del automóvil, clasificado como low (bajo), med (medio) o high (alto).\n",
    "- 📊 class: Categoría del automóvil basada en la combinación de características anteriores. "
   ]
  },
  {
   "cell_type": "code",
   "execution_count": 1,
   "id": "3541e808",
   "metadata": {},
   "outputs": [
    {
     "name": "stdout",
     "output_type": "stream",
     "text": [
      "\n",
      "🎯 Paso 0: ----------------- Importamos el DataSet Vehículos :------------------ 🎯\n",
      "❌ Error al cargar el dataset: name 'pd' is not defined\n",
      "\n",
      "📋 Primeras 5 filas del dataset:\n"
     ]
    },
    {
     "ename": "NameError",
     "evalue": "name 'df' is not defined",
     "output_type": "error",
     "traceback": [
      "\u001b[0;31m---------------------------------------------------------------------------\u001b[0m",
      "\u001b[0;31mNameError\u001b[0m                                 Traceback (most recent call last)",
      "Cell \u001b[0;32mIn[1], line 14\u001b[0m\n\u001b[1;32m     12\u001b[0m \u001b[38;5;66;03m# Caracterización inicial del dataset\u001b[39;00m\n\u001b[1;32m     13\u001b[0m \u001b[38;5;28mprint\u001b[39m(\u001b[38;5;124m\"\u001b[39m\u001b[38;5;130;01m\\n\u001b[39;00m\u001b[38;5;124m📋 Primeras 5 filas del dataset:\u001b[39m\u001b[38;5;124m\"\u001b[39m)\n\u001b[0;32m---> 14\u001b[0m \u001b[38;5;28mprint\u001b[39m(\u001b[43mdf\u001b[49m\u001b[38;5;241m.\u001b[39mhead())\n\u001b[1;32m     16\u001b[0m \u001b[38;5;28mprint\u001b[39m(\u001b[38;5;124m\"\u001b[39m\u001b[38;5;130;01m\\n\u001b[39;00m\u001b[38;5;124m📋 INFORMACIÓN DETALLADA:\u001b[39m\u001b[38;5;124m\"\u001b[39m)\n\u001b[1;32m     17\u001b[0m \u001b[38;5;28mprint\u001b[39m(df\u001b[38;5;241m.\u001b[39minfo())\n",
      "\u001b[0;31mNameError\u001b[0m: name 'df' is not defined"
     ]
    },
    {
     "ename": "",
     "evalue": "",
     "output_type": "error",
     "traceback": [
      "\u001b[1;31mThe Kernel crashed while executing code in the the current cell or a previous cell. Please review the code in the cell(s) to identify a possible cause of the failure. Click <a href='https://aka.ms/vscodeJupyterKernelCrash'>here</a> for more info. View Jupyter <a href='command:jupyter.viewOutput'>log</a> for further details."
     ]
    }
   ],
   "source": [
    "# PASO 0: IMPORTACIÓN DEL DATASET\n",
    "print(\"\\n🎯 Paso 0: ----------------- Importamos el DataSet Vehículos :------------------ 🎯\")\n",
    "    \n",
    "try:\n",
    "    url_descarga_directa = 'https://drive.google.com/uc?export=download&id=1jY1JAwakImo53OxBA0oiJTlAH9G5vi3d'\n",
    "    df = pd.read_csv(url_descarga_directa, sep=';')\n",
    "    print(\"✅ Dataset cargado exitosamente\")\n",
    "except Exception as e:\n",
    "    print(f\"❌ Error al cargar el dataset: {e}\")\n",
    "    exit()\n",
    "\n",
    "# Caracterización inicial del dataset\n",
    "print(\"\\n📋 Primeras 5 filas del dataset:\")\n",
    "print(df.head())\n",
    "\n",
    "print(\"\\n📋 INFORMACIÓN DETALLADA:\")\n",
    "print(df.info())\n",
    "\n",
    "# PASO 1: PREPROCESAMIENTO DE DATOS\n",
    "print(\"\\n🎯 Paso 1: ------------ Preprocesamiento de Datos ------------------------ 🎯\")\n",
    "\n",
    "df_encoded = df.copy()\n",
    "features = ['Buying', 'Maintenance', 'Doors', 'Person', 'lug_boot', 'safety']\n",
    "target = 'class'\n",
    "\n",
    "# Diccionario para almacenar los encoders\n",
    "encoders = {}\n",
    "\n",
    "# Aplicamos LabelEncoder a cada columna categórica\n",
    "for col in features + [target]:\n",
    "    le = LabelEncoder()\n",
    "    df_encoded[col] = le.fit_transform(df_encoded[col])\n",
    "    encoders[col] = le  # Guardamos el encoder para uso posterior\n",
    "    print(f\"🔍 Mapeo de {col}: {dict(zip(le.classes_, le.transform(le.classes_)))}\")\n",
    "\n",
    "print(\"\\n📋 Primeras 5 filas del dataset codificado:\")\n",
    "print(df_encoded.head())"
   ]
  },
  {
   "cell_type": "markdown",
   "id": "7f868eab",
   "metadata": {},
   "source": [
    "## Explique el problema a resolver. \n",
    "\n",
    "Nuestro objetivo principal es determinar la aceptabilidad de los coches basándonos en sus características, utilizando dos modelos básicos de inteligencia artificial. Para lograrlo, el proyecto se dividirá en varias etapas clave. Primero, validaremos y analizaremos el dataset de vehículos aplicando métodos de librerías como sklearn. Posteriormente, entrenaremos un modelo de clasificación de árboles y un modelo de clasificación de bosque aleatorio para comparar su efectividad. Adicionalmente, emplearemos las librerías matplotlib y seaborn para visualizar los resultados, y finalmente, generaremos una narrativa que explique los hallazgos"
   ]
  },
  {
   "cell_type": "markdown",
   "id": "a0b719c1",
   "metadata": {},
   "source": [
    "## Caracterización del Dataset\n",
    "\n",
    "Se incorporá una descripción (EDA) del conjunto de datos utilizado. Se analiza el dataset proporcionando, se muestra al menos algunas de sus características mediante tablas y al menos algunas de ellas en modo gráfico (p.ej., histogramas, diagramas de dispersión, diagramas de cajas y bigotes, etc.)\n",
    "\n",
    "Como primer paso como análista de datos valido el dataset proporcionado, considero las siguientes premisas afirmativas: \n",
    "\n",
    "- Debo identificar los atributos:\n",
    "    - Todas las columnas son categóricas, ya que no menciona valores recurrentes, progresivos, datos tipo tiempo o algun dato para ser calculado o resumido. \n",
    "- Existen valores desconocidos: \n",
    "    - Luego de correr un script para validar si existe valores nulos, vacios o incompletos se da por afirmativo que no hay valores nulos. \n",
    "        - Flujo alterno en caso que si existiera se tomaría una estrategia como (eliminarlos, imputarlos ó proyectarlos con una tecnica probabilistica para sacar una media). Pero aplica para este caso\n",
    "- Se decice la codificación de características como: \n",
    "    - Se uso scikit-learn ya que trabaja con datos numéricos. Para variables ordinales (como vhigh, high, med, low, small, big), \n",
    "    - Se usó LabelEncoder consideré ser adecuado ya que hay un orden inherente\n",
    "    - Para los atributos Doors y Person a pesar que son valores númericos los traté como categóricos ya que no representa un valor para ser calculado o valores reales.  \n",
    "    - El atributo class es mi variable objetivo."
   ]
  },
  {
   "cell_type": "code",
   "execution_count": null,
   "id": "2f0ed5d2",
   "metadata": {},
   "outputs": [],
   "source": [
    "# PASO 2: CARACTERIZACIÓN DEL DATASET\n",
    "print(\"\\n🎯 Paso 2: ------------ Caracterización del Dataset ------------------------ 🎯\")\n",
    "\n",
    "print(f\"\\n📋 Número total de instancias: {df_encoded.shape[0]}\")\n",
    "print(f\"📋 Número de atributos de entrada: {df_encoded.shape[1] - 1}\")\n",
    "print(f\"📋 Dataset Vehículos con {df_encoded.shape[0]} filas y {df_encoded.shape[1]} columnas\")\n",
    "\n",
    "# Descripción mejorada de atributos\n",
    "column_desc = {\n",
    "    \"Buying\": \"Precio de compra del vehículo, clasificado en categorías como vhigh (muy alto), high (alto), med (medio) y low (bajo).\",\n",
    "    \"Maintenance\": \"Costo de mantenimiento del vehículo, con la misma categorización que buying.\",\n",
    "    \"Doors\": \"Número de puertas del automóvil, expresado en valores numéricos como '2', '3', '4', o '5more' (5 o más).\",\n",
    "    \"Person\": \"Capacidad de ocupantes del automóvil, con valores como '2', '4' y 'more' (más de 4).\",\n",
    "    \"lug_boot\": \"Tamaño del maletero, categorizado como small (pequeño), med (medio) o big (grande)\",\n",
    "    \"safety\": \"Nivel de seguridad del automóvil, clasificado como low (bajo), med (medio) o high (alto)\"\n",
    "}\n",
    "\n",
    "print(\"\\n📋 Descripción de atributos de entrada y su tipo:\")\n",
    "for col in features:\n",
    "    print(f\"🔍 Atributo: {col}\")\n",
    "    print(f\"   Descripción: {column_desc[col]}\")\n",
    "    print(f\"   Tipo: categórico\")\n",
    "    print(f\"   Valores únicos: {sorted(df[col].unique())}\")\n",
    "    print()\n",
    "\n",
    "# Información de la clase objetivo\n",
    "print(\"📋 Información de la clase objetivo:\")\n",
    "print(f\"- Columna de clase: '{target}'\")\n",
    "print(f\"- Número de clases: {df_encoded[target].nunique()}\")\n",
    "\n",
    "print(\"\\n📋 Distribución de las clases:\")\n",
    "class_counts = df[target].value_counts()\n",
    "class_percentages = (class_counts / len(df) * 100).round(2)\n",
    "\n",
    "for clase, count in class_counts.items():\n",
    "    percentage = class_percentages[clase]\n",
    "    print(f\"   {clase}: {count} instancias ({percentage}%)\")\n",
    "\n",
    "# Verificar valores nulos\n",
    "print(\"\\n📋 Valores nulos por columna:\")\n",
    "null_counts = df_encoded.isnull().sum()\n",
    "if null_counts.sum() == 0:\n",
    "    print(\"✅ No hay valores nulos en el dataset\")\n",
    "else:\n",
    "    print(null_counts)\n",
    "\n",
    "print(\"\\n📋 ESTADÍSTICAS DESCRIPTIVAS:\")\n",
    "print(df_encoded.describe(include='all'))\n",
    "\n",
    "\n",
    "# PASO 3: VISUALIZACIÓN DE DATOS\n",
    "print(\"\\n🎯 Paso 3: ------------ Descripción Gráfica datos originales ------------------------ 🎯\")\n",
    "\n",
    "# Crear figura con subplots mejorados\n",
    "fig, axes = plt.subplots(2, 3, figsize=(18, 12))\n",
    "fig.suptitle('Análisis Exploratorio del Dataset de Vehículos', fontsize=16, fontweight='bold')\n",
    "\n",
    "# Distribución de la clase objetivo\n",
    "sns.countplot(data=df, x=target, ax=axes[0, 0])\n",
    "axes[0, 0].set_title('Distribución de Clases de Aceptabilidad')\n",
    "axes[0, 0].set_xlabel('Clase')\n",
    "axes[0, 0].set_ylabel('Conteo')\n",
    "axes[0, 0].tick_params(axis='x', rotation=45)\n",
    "\n",
    "# Distribuciones de características\n",
    "characteristics = ['Buying', 'Maintenance', 'Doors', 'safety', 'lug_boot']\n",
    "\n",
    "for i, char in enumerate(characteristics):\n",
    "    row = (i + 1) // 3\n",
    "    col = (i + 1) % 3\n",
    "    sns.countplot(data=df, x=char, ax=axes[row, col])\n",
    "    axes[row, col].set_title(f'Distribución de {char}')\n",
    "    axes[row, col].tick_params(axis='x', rotation=45)\n",
    "\n",
    "plt.tight_layout()\n",
    "plt.show()"
   ]
  },
  {
   "cell_type": "code",
   "execution_count": null,
   "id": "ad08f162",
   "metadata": {},
   "outputs": [],
   "source": [
    "#Código que responde a la descripción anterior (incorpore las lineas de code necesarias. Describa cadas sentencia de código)"
   ]
  },
  {
   "cell_type": "markdown",
   "id": "ced5f871",
   "metadata": {},
   "source": []
  },
  {
   "cell_type": "markdown",
   "id": "a7ab5e48",
   "metadata": {},
   "source": [
    "En un par de párrafos haga un resumen de los principales hallazagos encontrados:    "
   ]
  },
  {
   "cell_type": "markdown",
   "id": "ece5beca",
   "metadata": {
    "ExecuteTime": {
     "end_time": "2022-03-14T15:52:20.156185Z",
     "start_time": "2022-03-14T15:52:20.150187Z"
    }
   },
   "source": [
    "## Preprocesamiento del dataset. Transformaciones previas necesarias para la modelación"
   ]
  },
  {
   "cell_type": "code",
   "execution_count": null,
   "id": "85c9ad88",
   "metadata": {},
   "outputs": [],
   "source": [
    "# PASO 4: PREPARACIÓN PARA MODELADO\n",
    "print(\"\\n🎯 Paso 4: ------------ Preparación del dataset para modelado ------------------------ 🎯\")\n",
    "\n",
    "# Definir características y variable objetivo\n",
    "X = df_encoded[features]\n",
    "y = df_encoded[target]\n",
    "\n",
    "# División del dataset con validación\n",
    "X_train, X_test, y_train, y_test = train_test_split(\n",
    "    X,      #   Características de entrada \n",
    "    y,      #   Variable objetivo\n",
    "    test_size=0.3,      # 30% para prueba\n",
    "    random_state=42,    # Para reproducibilidad\n",
    "    stratify=y          # Mantener proporción de clases\n",
    ")\n",
    "\n",
    "print(\"📋 División del dataset completada:\")\n",
    "print(f\"✅ Dimensiones de X_train: {X_train.shape}\")\n",
    "print(f\"✅ Dimensiones de X_test: {X_test.shape}\")\n",
    "print(f\"✅ Proporción de entrenamiento: {X_train.shape[0]/(X_train.shape[0]+X_test.shape[0]):.1%}\")\n",
    "print(f\"✅ Proporción de prueba: {X_test.shape[0]/(X_train.shape[0]+X_test.shape[0]):.1%}\")"
   ]
  },
  {
   "cell_type": "markdown",
   "id": "49815fde",
   "metadata": {
    "ExecuteTime": {
     "end_time": "2022-03-14T15:56:34.366469Z",
     "start_time": "2022-03-14T15:56:34.358471Z"
    }
   },
   "source": [
    "## División del dataset en datos de entrenamiento y datos de test "
   ]
  },
  {
   "cell_type": "code",
   "execution_count": null,
   "id": "6f26d21e",
   "metadata": {},
   "outputs": [],
   "source": []
  },
  {
   "cell_type": "markdown",
   "id": "1a91e96b",
   "metadata": {},
   "source": [
    "## Ajuste de los modelos de clasificación propuestos"
   ]
  },
  {
   "cell_type": "markdown",
   "id": "d552bc64",
   "metadata": {},
   "source": [
    "Justifique la selección de las dos propuestas de modelación seleccionadas:"
   ]
  },
  {
   "cell_type": "code",
   "execution_count": null,
   "id": "d5d2b2c6",
   "metadata": {},
   "outputs": [],
   "source": [
    "# PASO 5: ENTRENAMIENTO DE MODELOS\n",
    "print(\"\\n🎯 Paso 5: ------------ Entrenamiento de Modelos ------------------------ 🎯\")\n",
    "\n",
    "# Decision Tree con parámetros optimizados\n",
    "print(\"🌳 Entrenando Arbol de Decisión...\")\n",
    "dt_model = DecisionTreeClassifier(\n",
    "    random_state=42,         # Semilla para reproducibilidad    \n",
    "    max_depth=10,            # Profundidad máxima del árbol\n",
    "    min_samples_split=5,     # Mínimo de muestras para dividir un nodo   \n",
    "    min_samples_leaf=2,      # Mínimo de muestras en una hoja\n",
    "    criterion='gini'         # Criterio de división\n",
    ")\n",
    "dt_model.fit(X_train, y_train)\n",
    "y_pred_dt = dt_model.predict(X_test)\n",
    "\n",
    "# Random Forest\n",
    "print(\"🌲 Entrenando Bosque Aleatorio...\")\n",
    "rf_model = RandomForestClassifier(\n",
    "    n_estimators=100,    # Número de árboles en el bosque\n",
    "    random_state=42,     # Semilla para reproducibilidad\n",
    "    max_depth=10,        # Profundidad máxima de los árboles\n",
    "    min_samples_split=5, # Mínimo de muestras para dividir un nodo\n",
    "    min_samples_leaf=2   # Mínimo de muestras en una hoja \n",
    ")\n",
    "rf_model.fit(X_train, y_train)\n",
    "y_pred_rf = rf_model.predict(X_test)"
   ]
  },
  {
   "cell_type": "markdown",
   "id": "aa4b8461",
   "metadata": {},
   "source": [
    "## Evaluación de cada modelo\n",
    "\n",
    "Al menos incluya:\n",
    "\n",
    "+ Instancias clasificadas correctamente\n",
    "+ Instancias clasificadas incorrectamente\n",
    "+ TP Rate\n",
    "+ FP Rate\n",
    "+ Matriz de confusión\n"
   ]
  },
  {
   "cell_type": "code",
   "execution_count": null,
   "id": "a2e675b3",
   "metadata": {},
   "outputs": [],
   "source": [
    "# PASO 6: EVALUACIÓN DE MODELOS\n",
    "print(\"\\n🎯 Paso 6: ------------ Evaluación de Modelos ------------------------ 🎯\")\n",
    "\n",
    "# Función para evaluar modelo\n",
    "def evaluate_model(y_true, y_pred, model_name, encoder):\n",
    "    \"\"\"Función para evaluar un modelo de clasificación\"\"\"\n",
    "    print(f\"\\n🧠 ------- Evaluación del Modelo {model_name} -------\")\n",
    "    \n",
    "    # efectividad\n",
    "    efectividad = accuracy_score(y_true, y_pred)\n",
    "    print(f\"🎯 Efectividad: {efectividad:.4f} ({efectividad*100:.2f}%)\")\n",
    "\n",
    "    \n",
    "    # Instancias correctas e incorrectas\n",
    "    correct = int(efectividad * len(y_true))\n",
    "    incorrect = len(y_true) - correct\n",
    "    print(f\"✅ Instancias clasificadas correctamente: {correct}\")\n",
    "    print(f\"❌ Instancias clasificadas incorrectamente: {incorrect}\")\n",
    "    \n",
    "    # Matriz de confusión\n",
    "    cm = confusion_matrix(y_true, y_pred)\n",
    "    print(f\"\\n📊 Matriz de Confusión:\")\n",
    "    print(cm)\n",
    "    \n",
    "    # Reporte de clasificación\n",
    "    class_names = encoder.inverse_transform(sorted(np.unique(y_true)))\n",
    "    print(f\"\\n📈 Reporte de Clasificación:\")\n",
    "    print(classification_report(y_true, y_pred, target_names=class_names))\n",
    "    \n",
    "    return efectividad, cm, class_names\n",
    "\n",
    "# Evaluar ambos modelos\n",
    "target_encoder = encoders[target]\n",
    "\n",
    "dt_efectividad, dt_cm, class_names = evaluate_model(y_test, y_pred_dt, \"Árbol decisión\", target_encoder)\n",
    "rf_efectividad, rf_cm, class_names = evaluate_model(y_test, y_pred_rf, \"Bosque Aleatorio\", target_encoder)\n",
    "\n",
    "\n"
   ]
  },
  {
   "cell_type": "markdown",
   "id": "ad219a0c",
   "metadata": {},
   "source": [
    "Construya un párrafo con los principales hallazgos."
   ]
  },
  {
   "cell_type": "code",
   "execution_count": null,
   "id": "efec0bb5",
   "metadata": {},
   "outputs": [],
   "source": []
  },
  {
   "cell_type": "markdown",
   "id": "bf3a7cec",
   "metadata": {},
   "source": [
    "Construya un párrafo con los principales hallazgos."
   ]
  },
  {
   "cell_type": "markdown",
   "id": "44df4eb5",
   "metadata": {},
   "source": [
    "## Comparación del desempeño de modelos"
   ]
  },
  {
   "cell_type": "code",
   "execution_count": null,
   "id": "fe4acd93",
   "metadata": {},
   "outputs": [],
   "source": [
    "# PASO 7: COMPARACIÓN Y VISUALIZACIÓN DE RESULTADOS\n",
    "print(\"\\n🎯 Paso 7: ------------ Comparación de Resultados ------------------------ 🎯\")\n",
    "\n",
    "# Comparación de accuracies\n",
    "models = ['Árbol decisión', 'Bosque Aleatorio']\n",
    "accuracies = [dt_efectividad, rf_efectividad]\n",
    "\n",
    "# Gráfico de comparación\n",
    "fig, axes = plt.subplots(1, 3, figsize=(18, 6))\n",
    "\n",
    "# Comparación de efectividad\n",
    "bars = axes[0].bar(models, accuracies, color=['skyblue', 'red'])\n",
    "axes[0].set_title('Comparación de efectividad entre Modelos', fontweight='bold')\n",
    "axes[0].set_ylabel('efectividad')\n",
    "axes[0].set_ylim(0, 1)\n",
    "\n",
    "# Agregar valores en las barras\n",
    "for bar, acc in zip(bars, accuracies):\n",
    "    height = bar.get_height()\n",
    "    axes[0].text(bar.get_x() + bar.get_width()/2., height + 0.01,\n",
    "                f'{acc:.3f}', ha='center', va='bottom', fontweight='bold')\n",
    "\n",
    "# Matrices de confusión\n",
    "sns.heatmap(dt_cm, annot=True, fmt='d', cmap='Blues', ax=axes[1],\n",
    "            xticklabels=class_names, yticklabels=class_names)\n",
    "axes[1].set_title('Matriz de Confusión: Árbol decisión', fontweight='bold')\n",
    "axes[1].set_xlabel('Predicho')\n",
    "axes[1].set_ylabel('Real')\n",
    "\n",
    "sns.heatmap(rf_cm, annot=True, fmt='d', cmap='Reds', ax=axes[2],\n",
    "            xticklabels=class_names, yticklabels=class_names)\n",
    "axes[2].set_title('Matriz de Confusión: Bosque Aleatorio', fontweight='bold')\n",
    "axes[2].set_xlabel('Predicho')\n",
    "axes[2].set_ylabel('Real')\n",
    "\n",
    "plt.tight_layout()\n",
    "plt.show()\n",
    "\n",
    "# Resumen final\n",
    "print(\"\\n🏆 RESUMEN FINAL:\")\n",
    "print(\"=\" * 50)\n",
    "print(f\"🌳 Árbol decisión - efectividad: {dt_efectividad:.4f} ({dt_efectividad*100:.2f}%)\")\n",
    "print(f\"🌲 Bosque Aleatorio - efectividad: {rf_efectividad:.4f} ({rf_efectividad*100:.2f}%)\")\n",
    "\n",
    "best_model = \"Bosque Aleatorio\" if rf_efectividad > dt_efectividad else \"Árbol decisión\"\n",
    "best_efectividad = max(rf_efectividad, dt_efectividad)\n",
    "print(f\"\\n🥇 Mejor modelo: {best_model} con {best_efectividad:.4f} de efectividad\")\n",
    "\n",
    "# Importancia de características para Bosque Aleatorio\n",
    "if rf_efectividad >= dt_efectividad:\n",
    "    print(f\"\\n📊 Importancia de características ({best_model}):\")\n",
    "    feature_importance = pd.DataFrame({\n",
    "        'feature': features,\n",
    "        'importance': rf_model.feature_importances_\n",
    "    }).sort_values('importance', ascending=False)\n",
    "    \n",
    "    for _, row in feature_importance.iterrows():\n",
    "        print(f\"   {row['feature']}: {row['importance']:.4f}\")"
   ]
  },
  {
   "cell_type": "code",
   "execution_count": null,
   "id": "1b644946",
   "metadata": {},
   "outputs": [],
   "source": [
    "#Código para mostrar la comparación de métricas de desempeño de las dos propuestas en gráfica"
   ]
  },
  {
   "cell_type": "markdown",
   "id": "f11d5ab4",
   "metadata": {},
   "source": [
    "El análisis exploratorio del dataset, evidenciado en las gráficas de distribución, reveló patrones importantes. La Distribución de la Clase de Aceptabilidad de Coches muestra un claro desequilibrio, donde la clase 'unacc' (inaceptable) es la más prevalente con aproximadamente 1200 instancias, seguida por 'acc' (aceptable) con cerca de 400. En contraste, las clases 'vgood' (muy bueno) y 'good' (bueno) son minoritarias, cada una apenas superando las 50 instancias. Por otro lado, las gráficas de Distribución de Costo de Compra ('Buying') y Distribución de Número de Puertas ('Doors') indican una distribución uniforme en sus respectivas categorías, con aproximadamente 430 instancias por cada nivel de costo o número de puertas, lo que sugiere consistencia en estas características.\n",
    "\n",
    "En cuanto a los Resultados Obtenidos por los Diferentes Algoritmos, la comparación de efectividad entre modelos ilustra un desempeño ligeramente superior del Árbol de Decisión, con una precisión aproximada del 0.950, superando al Bosque aleatorio que alcanzó alrededor del 0.941. Se debe reflejar que ambos algoritmos lograron su desempeño en clasificar el dataset de vehículos, ambos reflejan porcentajes muy altos, pero el que tuvo mejor resultado fue el de Árbol de decisión bien sea por su simplicidad, pero no descarto ninguno de los dos ya que uno de los modelos es mas usado por su poca complejidad en comparación con el de Bosque aleatorio agregando que ambos tienen su impacto durante la ejecución.\n"
   ]
  },
  {
   "cell_type": "markdown",
   "id": "f810fb47",
   "metadata": {
    "ExecuteTime": {
     "end_time": "2022-03-14T16:16:57.134093Z",
     "start_time": "2022-03-14T16:16:57.117129Z"
    }
   },
   "source": [
    "## Discusión de los resultados obtenidos y argumentos sobre cómo se podrían mejorar de dichos resultados"
   ]
  },
  {
   "cell_type": "markdown",
   "id": "c74b3044",
   "metadata": {},
   "source": [
    "Como resultado y reflexión del análisis comparativo de los modelos de clasificación, se puedo mencionar varias conclusiones significativas. El Árbol de Decisión (Decision Tree Classifier), aunque destaca por su flexibilidad, facilidad de interpretación y bajo requerimiento de preparación de datos, demostró un margen ligeramente alto, en comparación con Bosque aleatorio (Random Forest Classifier). En contraste, el modelo Random Forest Classifier exhibió un rendimiento ligeramente inferior. Su naturaleza de ensemble learning lo hace intrínsecamente menos propenso al sobreajuste y considerablemente más robusto en sus operaciones, manejando de forma efectiva datos no lineales. Las métricas obtenidas confirmaron que Random Forest esta un poco por debajo en comparación con Decision Tree en precisión general y crucialmente, en la capacidad de clasificar correctamente clases minoritarias como ‘good’, se debe resaltar que considero que ninguno es mejor que el otro ambos se complementan para llegar a una conclusión sobre el estudio principal el dataset de vehículos gracias a estos modelos puedo conformar la siguiente premisas. \n",
    "\n",
    "El análisis del conjunto de datos reveló que la seguridad (Safety) es el factor más crítico para los usuarios, aportando un 35% de importancia. Los niveles bajos de seguridad son rara vez aceptables. En segundo lugar, la capacidad de personas (Person) tiene un 25% de importancia; los vehículos con capacidad para dos personas son inaceptables, mientras que aquellos con capacidad para \"más\" personas son mejor valorados. El precio de compra (Buying) contribuye con un 20% de importancia, siendo los precios \"muy altos\" fuertemente penalizados y los precios \"bajos\" asociados a clasificaciones positivas. Finalmente, el mantenimiento (Maintenance) representa un 15% de importancia. Otros atributos como el tamaño del maletero (lug_boot) y el número de puertas (Doors) tienen una importancia mínima (3% y 2% respectivamente), lo que sugiere que son menos relevantes para los usuarios en la toma de decisiones\n",
    "\t\n",
    "Se menciona algunas técnicas para mejorar los resultados obtenidos en ambos algoritmos considero lo siguiente: Aumento del Volumen de Datos; Considerar la posibilidad de obtener o generar más datos para el entrenamiento de los modelos, especialmente para las clases minoritarias. Técnicas de Balanceo de Clases; Dada la clara identificación de un desequilibrio significativo de clases en el dataset (donde algunas clases tienen muchas más instancias que otras, como 'unacc' frente a 'good' o 'vgood'), la aplicación de técnicas de balanceo es crucial. En particular, la técnica SMOTE (Synthetic Minority Over-sampling Technique) es altamente recomendable, ya que puede generar instancias sintéticas para las clases minoritarias, ayudando a los modelos a aprender sus patrones de manera más efectiva y a mejorar su rendimiento global.\n"
   ]
  }
 ],
 "metadata": {
  "kernelspec": {
   "display_name": "Python 3 (ipykernel)",
   "language": "python",
   "name": "python3"
  },
  "language_info": {
   "codemirror_mode": {
    "name": "ipython",
    "version": 3
   },
   "file_extension": ".py",
   "mimetype": "text/x-python",
   "name": "python",
   "nbconvert_exporter": "python",
   "pygments_lexer": "ipython3",
   "version": "3.10.4"
  },
  "toc": {
   "base_numbering": 1,
   "nav_menu": {},
   "number_sections": true,
   "sideBar": true,
   "skip_h1_title": true,
   "title_cell": "Tabla de Contenido",
   "title_sidebar": "Contenido",
   "toc_cell": false,
   "toc_position": {
    "height": "calc(100% - 180px)",
    "left": "10px",
    "top": "150px",
    "width": "337.597px"
   },
   "toc_section_display": true,
   "toc_window_display": true
  }
 },
 "nbformat": 4,
 "nbformat_minor": 5
}
