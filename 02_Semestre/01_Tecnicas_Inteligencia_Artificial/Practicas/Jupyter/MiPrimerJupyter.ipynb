{
 "cells": [
  {
   "cell_type": "markdown",
   "id": "12c6f33a-ec5c-4b86-9aa2-229eb02d19ba",
   "metadata": {},
   "source": [
    "## Primeros pasos Jupyter\n",
    "- Paso 0: Debemos tener instalado python3 validar ´python3 --version´\n",
    "- Paso 1: Instalamos : ´pip3 install notebook´\n",
    "- Paso 2: Ejecutar : ´jupyter notebook´\n"
   ]
  },
  {
   "cell_type": "code",
   "execution_count": 5,
   "id": "511307c9-3637-4dc2-af3d-e28a18e27ef8",
   "metadata": {},
   "outputs": [
    {
     "name": "stdout",
     "output_type": "stream",
     "text": [
      "Tu edad es 37, tu nombre es : Leonard\n"
     ]
    }
   ],
   "source": [
    "# Ejemplo de asinar valor a las variables y mostrar resultado en consola\n",
    "edad = int(37)\n",
    "nombre = 'Leonard'\n",
    "print(\"Tu edad es {0}, tu nombre es : {1}\".format(edad, nombre))\n",
    "\n"
   ]
  },
  {
   "cell_type": "code",
   "execution_count": null,
   "id": "8e9c4a4f-2e75-4e15-8145-3f8003af5426",
   "metadata": {},
   "outputs": [],
   "source": []
  }
 ],
 "metadata": {
  "kernelspec": {
   "display_name": "Python 3 (ipykernel)",
   "language": "python",
   "name": "python3"
  },
  "language_info": {
   "codemirror_mode": {
    "name": "ipython",
    "version": 3
   },
   "file_extension": ".py",
   "mimetype": "text/x-python",
   "name": "python",
   "nbconvert_exporter": "python",
   "pygments_lexer": "ipython3",
   "version": "3.10.4"
  }
 },
 "nbformat": 4,
 "nbformat_minor": 5
}
