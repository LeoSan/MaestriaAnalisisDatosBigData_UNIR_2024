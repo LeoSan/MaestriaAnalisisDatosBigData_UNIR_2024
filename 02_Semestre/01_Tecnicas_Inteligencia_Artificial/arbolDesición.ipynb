{
 "cells": [
  {
   "cell_type": "code",
   "execution_count": 44,
   "id": "6dcd26d3-1549-4385-84a1-e9961b8b39ce",
   "metadata": {},
   "outputs": [],
   "source": [
    "from pandas import read_csv\n",
    "#from sklearn.datasets import load_iris\n",
    "from sklearn.model_selection import train_test_split\n",
    "from sklearn.metrics import classification_report\n",
    "from sklearn.metrics import confusion_matrix\n",
    "from sklearn.metrics import accuracy_score\n",
    "from sklearn.tree import DecisionTreeClassifier\n",
    "from sklearn import tree"
   ]
  },
  {
   "cell_type": "code",
   "execution_count": 45,
   "id": "c0aa1bd5-330b-4db2-86fc-c4eb599638ad",
   "metadata": {},
   "outputs": [],
   "source": [
    "url = \"https://www.openml.org/data/get_csv/61/dataset_61_iris.arff\"\n",
    "dataset = read_csv(url)"
   ]
  },
  {
   "cell_type": "code",
   "execution_count": 46,
   "id": "459a677f-310d-4fd7-89f6-97f64387a10e",
   "metadata": {},
   "outputs": [],
   "source": [
    "array = dataset.values\n",
    "X = array[:,0:4]\n",
    "y = array[:,4]\n",
    "\n",
    "\n",
    "X_train, X_validation, Y_train, Y_validation = train_test_split(X,y, test_size = 0.20, random_state = 1, shuffle = True)\n",
    "\n",
    "\n",
    "#print(y)"
   ]
  },
  {
   "cell_type": "code",
   "execution_count": 53,
   "id": "71c4be45-c408-4e33-aa42-f7c50320e4e9",
   "metadata": {},
   "outputs": [
    {
     "name": "stdout",
     "output_type": "stream",
     "text": [
      "accuracy =\n",
      "0.9666666666666667\n",
      "_____________________________________\n",
      "                 precision    recall  f1-score   support\n",
      "\n",
      "    Iris-setosa       1.00      1.00      1.00        11\n",
      "Iris-versicolor       1.00      0.92      0.96        13\n",
      " Iris-virginica       0.86      1.00      0.92         6\n",
      "\n",
      "       accuracy                           0.97        30\n",
      "      macro avg       0.95      0.97      0.96        30\n",
      "   weighted avg       0.97      0.97      0.97        30\n",
      "\n",
      "['Iris-virginica']\n"
     ]
    }
   ],
   "source": [
    "model = DecisionTreeClassifier()\n",
    "model.fit(X_train, Y_train)\n",
    "predictions = model.predict(X_validation)\n",
    "print(\"accuracy =\")\n",
    "print(accuracy_score(Y_validation, predictions))\n",
    "#tree.plot_tree(model)\n",
    "print(\"_____________________________________\")\n",
    "#mx = confusion_matrix(Y_validation,predictions);\n",
    "#mx\n",
    "\n",
    "print(classification_report(Y_validation, predictions))\n",
    "\n",
    "# realizamos una predicción de ejemplo:\n",
    "print(model.predict([[6.0, 3.0, 5.0, 2.0]]))\n",
    "\n"
   ]
  },
  {
   "cell_type": "raw",
   "id": "2c74e5d4-8ccc-4a81-8122-772fb6e85aed",
   "metadata": {},
   "source": []
  },
  {
   "cell_type": "code",
   "execution_count": null,
   "id": "5abbe7df-0b8f-43ee-a41b-0c48d3ea7b11",
   "metadata": {},
   "outputs": [],
   "source": []
  },
  {
   "cell_type": "code",
   "execution_count": null,
   "id": "33afcc1a-7f4b-47dd-b023-421ef503c4c1",
   "metadata": {},
   "outputs": [],
   "source": []
  }
 ],
 "metadata": {
  "kernelspec": {
   "display_name": "Python 3 (ipykernel)",
   "language": "python",
   "name": "python3"
  },
  "language_info": {
   "codemirror_mode": {
    "name": "ipython",
    "version": 3
   },
   "file_extension": ".py",
   "mimetype": "text/x-python",
   "name": "python",
   "nbconvert_exporter": "python",
   "pygments_lexer": "ipython3",
   "version": "3.13.3"
  }
 },
 "nbformat": 4,
 "nbformat_minor": 5
}
