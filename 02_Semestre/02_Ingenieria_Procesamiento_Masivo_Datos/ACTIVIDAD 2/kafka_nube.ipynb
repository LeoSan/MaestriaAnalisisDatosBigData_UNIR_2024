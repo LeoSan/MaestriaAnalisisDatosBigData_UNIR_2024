{
 "cells": [
  {
   "cell_type": "code",
   "execution_count": 1,
   "id": "c4f8d1a8-05bb-4dbb-a0d1-802deb0dbf24",
   "metadata": {},
   "outputs": [],
   "source": [
    "from pyspark.sql import SparkSession\n",
    "from pyspark import SparkContext\n",
    "from pyspark import SparkConf\n",
    "spark = SparkSession. \\\n",
    "builder. \\\n",
    "appName('UNIR'). \\\n",
    "config(\"spark.executor.memory\", \"1g\"). \\\n",
    "config(\"spark.driver.memory\", \"2g\"). \\\n",
    "config('spark.dirver.maxResultSize', '1g'). \\\n",
    "config('spark.jars.packages','org.apache.spark:spark-sql-kafka-0-10_2.12:3.1.2'). \\\n",
    "getOrCreate()"
   ]
  },
  {
   "cell_type": "code",
   "execution_count": 2,
   "id": "b60edadc-1958-4542-b8e9-9e1fa40f1694",
   "metadata": {},
   "outputs": [],
   "source": [
    "def promediarValores(df):\n",
    "   df.createOrReplaceTempView(\"resultadoMedio\")\n",
    "   promedios = spark.sql(\"\"\"SELECT tipo, AVG(total) AS promedio FROM resultadoMedio GROUP BY tipo ORDER BY promedio DESC\"\"\")\n",
    "   return promedios"
   ]
  },
  {
   "cell_type": "code",
   "execution_count": 3,
   "id": "48e0d421-f5a9-49a8-8d0a-892d787954f9",
   "metadata": {},
   "outputs": [],
   "source": [
    "tiposStreamingDF = (spark\n",
    "  .readStream\n",
    "  .format(\"kafka\")\n",
    "  .option(\"kafka.bootstrap.servers\", \"127.0.0.1:9092\")\n",
    "  .option(\"subscribe\", \"promedios\")\n",
    "  .load())"
   ]
  },
  {
   "cell_type": "code",
   "execution_count": 4,
   "id": "0aca7c60-8cbd-484d-bfee-447b609d5eab",
   "metadata": {},
   "outputs": [],
   "source": [
    "from pyspark.sql.types import StructType, StructField, StringType, DoubleType\n",
    "import pyspark.sql.functions as F\n",
    "esquema = StructType([\\\n",
    "  StructField(\"tipo\", StringType()),\\\n",
    "  StructField(\"total\", DoubleType())\\\n",
    "])"
   ]
  },
  {
   "cell_type": "code",
   "execution_count": 5,
   "id": "3bef5b58-45f8-4cd0-a3f8-236e6aff138b",
   "metadata": {},
   "outputs": [],
   "source": [
    "parsedDF = tiposStreamingDF\\\n",
    "     .select(\"value\")\\\n",
    "     .withColumn(\"value\", F.col(\"value\").cast(StringType()))\\\n",
    "     .withColumn(\"parejas\", F.from_json(F.col(\"value\"), esquema))\\\n",
    "     .withColumn(\"tipo\", F.col(\"parejas.tipo\"))\\\n",
    "     .withColumn(\"total\", F.col(\"parejas.total\"))"
   ]
  },
  {
   "cell_type": "code",
   "execution_count": 6,
   "id": "5e180263-f093-4969-9f33-96a1eb16839b",
   "metadata": {},
   "outputs": [],
   "source": [
    "promediosStreamingDF = promediarValores(parsedDF)"
   ]
  },
  {
   "cell_type": "code",
   "execution_count": 8,
   "id": "98ca4f6f-6bab-4a66-b273-c1e21b869723",
   "metadata": {},
   "outputs": [],
   "source": [
    "salida = promediosStreamingDF\\\n",
    "                    .writeStream\\\n",
    "                    .queryName(\"AgregacionPromedios\")\\\n",
    "                    .outputMode(\"complete\")\\\n",
    "                    .format(\"memory\")\\\n",
    "                    .option(\"checkpointLocation\", \"hdfs://localhost:9000/tmp/checkpoints/promedios\")\\\n",
    "                    .start()"
   ]
  },
  {
   "cell_type": "code",
   "execution_count": 9,
   "id": "a3a0c21b-2556-46a2-b34d-acdbd6eb521c",
   "metadata": {},
   "outputs": [],
   "source": [
    "promediosDF = spark.sql(\"select * from AgregacionPromedios\")"
   ]
  },
  {
   "cell_type": "code",
   "execution_count": 10,
   "id": "ebc4a8cb-4d01-4ab8-a044-c9fefb98b467",
   "metadata": {},
   "outputs": [
    {
     "name": "stdout",
     "output_type": "stream",
     "text": [
      "+----+--------+\n",
      "|tipo|promedio|\n",
      "+----+--------+\n",
      "+----+--------+\n",
      "\n"
     ]
    }
   ],
   "source": [
    "promediosDF.show()"
   ]
  },
  {
   "cell_type": "code",
   "execution_count": null,
   "id": "bc8efb86-e866-46bd-b20d-f3edea705547",
   "metadata": {},
   "outputs": [],
   "source": [
    "kafka-topics.bat --list --bootstrap-server localhost:9092\n",
    "\n",
    "kafka-topics.bat --create --topic promedios --bootstrap-server localhost:9092 --partitions 1 --replication-factor 1\n",
    "\n",
    "kafka-topics.bat --list --bootstrap-server localhost:9092\n",
    "\n",
    "kafka-console-producer.bat --topic promedios --bootstrap-server localhost:9092"
   ]
  },
  {
   "cell_type": "code",
   "execution_count": null,
   "id": "1bf078d9-de20-43d7-87ab-195ac9665b28",
   "metadata": {},
   "outputs": [],
   "source": [
    "{\"tipo\": \"gasto\", \"total\": 3.5}\n",
    "{\"tipo\": \"ingreso\", \"total\": 7.0}\n",
    "{\"tipo\": \"ingreso\", \"total\": 6.5}\n",
    "{\"tipo\": \"gasto\", \"total\": 1.5}\n",
    "{\"tipo\": \"gasto\", \"total\": 2.5}"
   ]
  },
  {
   "cell_type": "code",
   "execution_count": 13,
   "id": "e34f42a4-849c-4e9a-b413-88fbf775c6f3",
   "metadata": {},
   "outputs": [
    {
     "name": "stdout",
     "output_type": "stream",
     "text": [
      "+-----+--------+\n",
      "| tipo|promedio|\n",
      "+-----+--------+\n",
      "|gasto|     3.5|\n",
      "+-----+--------+\n",
      "\n"
     ]
    }
   ],
   "source": [
    "promediosDF.show()"
   ]
  },
  {
   "cell_type": "code",
   "execution_count": 14,
   "id": "d9b0e34c-f617-406a-a68f-34ac9f3ac80f",
   "metadata": {},
   "outputs": [
    {
     "name": "stdout",
     "output_type": "stream",
     "text": [
      "+-------+--------+\n",
      "|   tipo|promedio|\n",
      "+-------+--------+\n",
      "|ingreso|     7.0|\n",
      "|  gasto|     3.5|\n",
      "+-------+--------+\n",
      "\n"
     ]
    }
   ],
   "source": [
    "promediosDF.show()"
   ]
  },
  {
   "cell_type": "code",
   "execution_count": 15,
   "id": "e6f576bc-f56c-4a12-90dd-bb3f01fbad7c",
   "metadata": {},
   "outputs": [
    {
     "name": "stdout",
     "output_type": "stream",
     "text": [
      "+-------+--------+\n",
      "|   tipo|promedio|\n",
      "+-------+--------+\n",
      "|ingreso|    6.75|\n",
      "|  gasto|     3.5|\n",
      "+-------+--------+\n",
      "\n"
     ]
    }
   ],
   "source": [
    "promediosDF.show()"
   ]
  },
  {
   "cell_type": "code",
   "execution_count": null,
   "id": "efa99fb4-203f-4c26-8477-d85bec5249d1",
   "metadata": {},
   "outputs": [],
   "source": [
    "#kafka-topics.bat --delete --topic promedios --bootstrap-server localhost:9092"
   ]
  }
 ],
 "metadata": {
  "kernelspec": {
   "display_name": "Python 3 (ipykernel)",
   "language": "python",
   "name": "python3"
  },
  "language_info": {
   "codemirror_mode": {
    "name": "ipython",
    "version": 3
   },
   "file_extension": ".py",
   "mimetype": "text/x-python",
   "name": "python",
   "nbconvert_exporter": "python",
   "pygments_lexer": "ipython3",
   "version": "3.10.11"
  }
 },
 "nbformat": 4,
 "nbformat_minor": 5
}
